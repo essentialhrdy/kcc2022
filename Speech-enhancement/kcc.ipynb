{
 "cells": [
  {
   "cell_type": "code",
   "execution_count": 2,
   "metadata": {},
   "outputs": [],
   "source": [
    "import os,sys,inspect\n",
    "currentdir = os.path.dirname(os.path.abspath(inspect.getfile(inspect.currentframe())))\n",
    "sys.path.append('..')\n",
    "from data_tools import audio_files_to_numpy, numpy_audio_to_matrix_spectrogram\n",
    "from data_display import make_3plots_spec_voice_noise, make_3plots_timeseries_voice_noise\n",
    "import librosa\n",
    "import librosa.display\n",
    "import matplotlib.pyplot as plt\n",
    "import numpy as np\n",
    "%matplotlib inline\n",
    "import IPython.display as ipd\n",
    "from scipy.io import wavfile\n",
    "from pesq import pesq"
   ]
  },
  {
   "cell_type": "code",
   "execution_count": 30,
   "metadata": {},
   "outputs": [],
   "source": [
    "all = \"./demo_data/test/noisy_voice_long_all.wav\"\n",
    "metro = \"kcc2022-1/Speech-enhancement/demo_data/test/noisy_voice_long_metro.wav\"\n",
    "park = \"kcc2022-1/Speech-enhancement/demo_data/test/noisy_voice_long_park.wav\"\n",
    "street = \"kcc2022-1/Speech-enhancement/demo_data/test/noisy_voice_long_street.wav\"\n",
    "allDenoise = \"./demo_data/save_predictions_all/denoise_all.wav\"\n",
    "metroDenoise = \"kcc2022-1/Speech-enhancement/demo_data/save_predictions_metro/denoise_metro.wav\"\n",
    "parkDenoise = \"kcc2022-1/Speech-enhancement/demo_data/save_predictions_park/denoise_park.wav\"\n",
    "streetDenoise = \"kcc2022-1/Speech-enhancement/demo_data/save_predictions_street/denoise_street.wav\"\n",
    "\n"
   ]
  },
  {
   "cell_type": "markdown",
   "metadata": {},
   "source": [
    "PESQ ALL"
   ]
  },
  {
   "cell_type": "code",
   "execution_count": 31,
   "metadata": {},
   "outputs": [
    {
     "ename": "TypeError",
     "evalue": "unsupported operand type(s) for /: 'str' and 'float'",
     "output_type": "error",
     "traceback": [
      "\u001b[0;31m---------------------------------------------------------------------------\u001b[0m",
      "\u001b[0;31mTypeError\u001b[0m                                 Traceback (most recent call last)",
      "Input \u001b[0;32mIn [31]\u001b[0m, in \u001b[0;36m<cell line: 3>\u001b[0;34m()\u001b[0m\n\u001b[1;32m      1\u001b[0m rate, all2 \u001b[39m=\u001b[39m wavfile\u001b[39m.\u001b[39mread(\u001b[39mall\u001b[39m)\n\u001b[1;32m      2\u001b[0m rate, allDenoise2 \u001b[39m=\u001b[39m wavfile\u001b[39m.\u001b[39mread(allDenoise)\n\u001b[0;32m----> 3\u001b[0m \u001b[39mprint\u001b[39m(pesq(rate, all2, allDenoise, \u001b[39m'\u001b[39;49m\u001b[39mnb\u001b[39;49m\u001b[39m'\u001b[39;49m))\n",
      "File \u001b[0;32m~/kcc/lib/python3.8/site-packages/pesq/__init__.py:37\u001b[0m, in \u001b[0;36mpesq\u001b[0;34m(fs, ref, deg, mode, on_error)\u001b[0m\n\u001b[1;32m     <a href='file:///home/kiochy/kcc/lib/python3.8/site-packages/pesq/__init__.py?line=33'>34</a>\u001b[0m     \u001b[39mprint\u001b[39m(USAGE)\n\u001b[1;32m     <a href='file:///home/kiochy/kcc/lib/python3.8/site-packages/pesq/__init__.py?line=34'>35</a>\u001b[0m     \u001b[39mraise\u001b[39;00m \u001b[39mValueError\u001b[39;00m(\u001b[39m\"\u001b[39m\u001b[39mno wide band mode if fs = 8000\u001b[39m\u001b[39m\"\u001b[39m)\n\u001b[0;32m---> <a href='file:///home/kiochy/kcc/lib/python3.8/site-packages/pesq/__init__.py?line=36'>37</a>\u001b[0m maxval \u001b[39m=\u001b[39m \u001b[39mmax\u001b[39m(np\u001b[39m.\u001b[39mmax(np\u001b[39m.\u001b[39mabs(ref\u001b[39m/\u001b[39m\u001b[39m1.0\u001b[39m)), np\u001b[39m.\u001b[39mmax(np\u001b[39m.\u001b[39mabs(deg\u001b[39m/\u001b[39;49m\u001b[39m1.0\u001b[39;49m)))\n\u001b[1;32m     <a href='file:///home/kiochy/kcc/lib/python3.8/site-packages/pesq/__init__.py?line=38'>39</a>\u001b[0m \u001b[39mif\u001b[39;00m mode \u001b[39m==\u001b[39m \u001b[39m'\u001b[39m\u001b[39mwb\u001b[39m\u001b[39m'\u001b[39m:\n\u001b[1;32m     <a href='file:///home/kiochy/kcc/lib/python3.8/site-packages/pesq/__init__.py?line=39'>40</a>\u001b[0m     mode_code \u001b[39m=\u001b[39m \u001b[39m1\u001b[39m\n",
      "\u001b[0;31mTypeError\u001b[0m: unsupported operand type(s) for /: 'str' and 'float'"
     ]
    }
   ],
   "source": [
    "rate, all2 = wavfile.read(all)\n",
    "rate, allDenoise2 = wavfile.read(allDenoise)\n",
    "print(pesq(rate, all2, allDenoise2, 'nb'))"
   ]
  }
 ],
 "metadata": {
  "interpreter": {
   "hash": "148ebdcbad07b1ae6d90b47a89b9300a8ae6ec12936de129b92cd658a1ffdd64"
  },
  "kernelspec": {
   "display_name": "Python 3.9.12 ('kcc': conda)",
   "language": "python",
   "name": "python3"
  },
  "language_info": {
   "codemirror_mode": {
    "name": "ipython",
    "version": 3
   },
   "file_extension": ".py",
   "mimetype": "text/x-python",
   "name": "python",
   "nbconvert_exporter": "python",
   "pygments_lexer": "ipython3",
   "version": "3.8.10"
  },
  "orig_nbformat": 4
 },
 "nbformat": 4,
 "nbformat_minor": 2
}
