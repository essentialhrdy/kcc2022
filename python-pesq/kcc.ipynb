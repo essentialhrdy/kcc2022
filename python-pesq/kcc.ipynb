{
 "cells": [
  {
   "cell_type": "code",
   "execution_count": null,
   "metadata": {},
   "outputs": [],
   "source": [
    "import os,sys,inspect\n",
    "currentdir = os.path.dirname(os.path.abspath(inspect.getfile(inspect.currentframe())))\n",
    "sys.path.append('..')\n",
    "from data_tools import audio_files_to_numpy, numpy_audio_to_matrix_spectrogram\n",
    "from data_display import make_3plots_spec_voice_noise, make_3plots_timeseries_voice_noise\n",
    "import librosa\n",
    "import librosa.display\n",
    "import matplotlib.pyplot as plt\n",
    "import numpy as np\n",
    "%matplotlib inline\n",
    "import IPython.display as ipd"
   ]
  }
 ],
 "metadata": {
  "interpreter": {
   "hash": "46ec6c35f27681b8c5a3c688fefa200d95586d40a2dc0836210c2806ab5760cd"
  },
  "kernelspec": {
   "display_name": "Python 3.8.10 ('kcc': venv)",
   "language": "python",
   "name": "python3"
  },
  "language_info": {
   "name": "python",
   "version": "3.8.10"
  },
  "orig_nbformat": 4
 },
 "nbformat": 4,
 "nbformat_minor": 2
}
