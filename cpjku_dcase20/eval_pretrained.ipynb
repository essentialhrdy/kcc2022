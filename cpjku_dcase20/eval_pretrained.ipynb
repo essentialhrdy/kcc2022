{
 "cells": [
  {
   "cell_type": "code",
   "execution_count": 1,
   "metadata": {},
   "outputs": [
    {
     "name": "stderr",
     "output_type": "stream",
     "text": [
      "/home/kiochy/kcc/lib/python3.8/site-packages/tqdm/auto.py:22: TqdmWarning: IProgress not found. Please update jupyter and ipywidgets. See https://ipywidgets.readthedocs.io/en/stable/user_install.html\n",
      "  from .autonotebook import tqdm as notebook_tqdm\n"
     ]
    }
   ],
   "source": [
    "import torch,json,os,importlib"
   ]
  },
  {
   "cell_type": "markdown",
   "metadata": {},
   "source": [
    "Download the pretrained models from https://zenodo.org/record/4282667 and extract the models directories into the \"pretrained_models\" directory.\n",
    "\n"
   ]
  },
  {
   "cell_type": "code",
   "execution_count": 2,
   "metadata": {},
   "outputs": [
    {
     "data": {
      "text/plain": [
       "['ensem3', 'ensem2', 'sub2', 'sub1', 'sub3', 'ensem1']"
      ]
     },
     "execution_count": 2,
     "metadata": {},
     "output_type": "execute_result"
    }
   ],
   "source": [
    "os.listdir(\"pretrained_models/CPJKU_DCASE20T1B_pretrained/\")"
   ]
  },
  {
   "cell_type": "markdown",
   "metadata": {},
   "source": [
    "# Select the pretrained model path"
   ]
  },
  {
   "cell_type": "code",
   "execution_count": 3,
   "metadata": {},
   "outputs": [],
   "source": [
    "#model_path=\"pretrained_models/sub1/\"\n",
    "model_path=\"pretrained_models/CPJKU_DCASE20T1B_pretrained/sub2/\"\n",
    "#model_path=\"pretrained_models/sub3/\""
   ]
  },
  {
   "cell_type": "markdown",
   "metadata": {},
   "source": [
    "# Loading the model specified by model_path"
   ]
  },
  {
   "cell_type": "code",
   "execution_count": 4,
   "metadata": {},
   "outputs": [
    {
     "data": {
      "text/plain": [
       "['eval_predictions_probs.pth',\n",
       " 'dataset_config.json',\n",
       " 'model_from_training_state_dict.pth',\n",
       " 'eval_predictions.csv',\n",
       " 'model_state_dict.pth',\n",
       " 'description.txt',\n",
       " 'model_config.json']"
      ]
     },
     "execution_count": 4,
     "metadata": {},
     "output_type": "execute_result"
    }
   ],
   "source": [
    "os.listdir(model_path)"
   ]
  },
  {
   "cell_type": "markdown",
   "metadata": {},
   "source": [
    "### Loading the model config from json"
   ]
  },
  {
   "cell_type": "code",
   "execution_count": 5,
   "metadata": {},
   "outputs": [],
   "source": [
    "with open(model_path+'model_config.json',\"r\")as f:\n",
    "    model_config=json.load(f)\n"
   ]
  },
  {
   "cell_type": "markdown",
   "metadata": {},
   "source": [
    "### Making an instance"
   ]
  },
  {
   "cell_type": "code",
   "execution_count": 6,
   "metadata": {},
   "outputs": [
    {
     "name": "stderr",
     "output_type": "stream",
     "text": [
      "n_blocks_per_stage is specified ignoring the depth param, nc=None\n"
     ]
    },
    {
     "name": "stdout",
     "output_type": "stream",
     "text": [
      "\n",
      "Warning Pruning only 1x1 CONVS\n",
      "\n",
      "WARNING: stage3 removed\n",
      "0 0.05892556509887896 0.408248290463863\n",
      "1 0.05892556509887896 0.408248290463863\n",
      "2 0.05892556509887896 0.408248290463863\n",
      "3 0.1767766952966369 0.408248290463863\n",
      "4 0.125 0.408248290463863\n",
      "5 0.125 0.408248290463863\n"
     ]
    }
   ],
   "source": [
    "module = importlib.import_module('models.{}'.format(model_config['arch']))\n",
    "Network = getattr(module, 'Network')\n",
    "model=Network(model_config)"
   ]
  },
  {
   "cell_type": "markdown",
   "metadata": {},
   "source": [
    "### Loading the pretrained weights"
   ]
  },
  {
   "cell_type": "code",
   "execution_count": 7,
   "metadata": {},
   "outputs": [],
   "source": [
    "state_dict=torch.load(model_path+\"/model_state_dict.pth\")\n"
   ]
  },
  {
   "cell_type": "code",
   "execution_count": 8,
   "metadata": {},
   "outputs": [
    {
     "name": "stdout",
     "output_type": "stream",
     "text": [
      "model in float16\n"
     ]
    },
    {
     "data": {
      "text/plain": [
       "<All keys matched successfully>"
      ]
     },
     "execution_count": 8,
     "metadata": {},
     "output_type": "execute_result"
    }
   ],
   "source": [
    "# if the weights are float16 cast the model\n",
    "if [v for k,v in state_dict.items()][0].dtype==torch.float16:\n",
    "    model=model.half()\n",
    "    print(\"model in float16\")\n",
    "model.load_state_dict(state_dict)\n"
   ]
  },
  {
   "cell_type": "code",
   "execution_count": 9,
   "metadata": {},
   "outputs": [],
   "source": [
    "device = torch.device('cuda:0')\n",
    "torch.cuda.is_available()"
   ]
  },
  {
   "cell_type": "markdown",
   "metadata": {},
   "source": [
    "### Parameters count\n"
   ]
  },
  {
   "cell_type": "code",
   "execution_count": null,
   "metadata": {},
   "outputs": [],
   "source": [
    "def count_non_zero_params_nonbn(model):\n",
    "    sum_params = 0\n",
    "    sum_non_zero= 0 \n",
    "    desc=\"\"\n",
    "    def calc_params(model):\n",
    "        nonlocal desc, sum_params, sum_non_zero\n",
    "        skip=\"count\"\n",
    "        if \"batchnorm\" in  type(model).__name__.lower():\n",
    "            skip=\"skip\"\n",
    "        for k,p in model.named_parameters(recurse=False):\n",
    "            if p.requires_grad:\n",
    "                nonzero = (p != 0).sum()\n",
    "                total= p.numel()\n",
    "                desc += f\"type {type(model).__name__}, {k},  {total}, {nonzero}, {p.dtype}, {skip} \" + \"\\n\"\n",
    "                if skip!=\"skip\":\n",
    "                    sum_params+=total\n",
    "                    sum_non_zero+=nonzero\n",
    "    model.apply(calc_params)       \n",
    "    return desc,sum_params,sum_non_zero"
   ]
  },
  {
   "cell_type": "code",
   "execution_count": null,
   "metadata": {},
   "outputs": [
    {
     "ename": "RuntimeError",
     "evalue": "\"ne_cpu\" not implemented for 'Half'",
     "output_type": "error",
     "traceback": [
      "\u001b[0;31m---------------------------------------------------------------------------\u001b[0m",
      "\u001b[0;31mRuntimeError\u001b[0m                              Traceback (most recent call last)",
      "\u001b[1;32m/home/kiochy/kcc2022-1/cpjku_dcase20/eval_pretrained.ipynb Cell 18'\u001b[0m in \u001b[0;36m<cell line: 1>\u001b[0;34m()\u001b[0m\n\u001b[0;32m----> <a href='vscode-notebook-cell://ssh-remote%2B7b22686f73744e616d65223a223232302e37302e322e323236222c2275736572223a226b696f636879222c22706f7274223a323232327d/home/kiochy/kcc2022-1/cpjku_dcase20/eval_pretrained.ipynb#ch0000017vscode-remote?line=0'>1</a>\u001b[0m desc,sum_params,sum_non_zero\u001b[39m=\u001b[39mcount_non_zero_params_nonbn(model)\n\u001b[1;32m      <a href='vscode-notebook-cell://ssh-remote%2B7b22686f73744e616d65223a223232302e37302e322e323236222c2275736572223a226b696f636879222c22706f7274223a323232327d/home/kiochy/kcc2022-1/cpjku_dcase20/eval_pretrained.ipynb#ch0000017vscode-remote?line=1'>2</a>\u001b[0m \u001b[39mprint\u001b[39m(\u001b[39m\"\u001b[39m\u001b[39mTotal: \u001b[39m\u001b[39m\"\u001b[39m,sum_params, \u001b[39m\"\u001b[39m\u001b[39mNon-Zero:\u001b[39m\u001b[39m\"\u001b[39m,sum_non_zero)\n\u001b[1;32m      <a href='vscode-notebook-cell://ssh-remote%2B7b22686f73744e616d65223a223232302e37302e322e323236222c2275736572223a226b696f636879222c22706f7274223a323232327d/home/kiochy/kcc2022-1/cpjku_dcase20/eval_pretrained.ipynb#ch0000017vscode-remote?line=2'>3</a>\u001b[0m \u001b[39mprint\u001b[39m(desc)\n",
      "\u001b[1;32m/home/kiochy/kcc2022-1/cpjku_dcase20/eval_pretrained.ipynb Cell 17'\u001b[0m in \u001b[0;36mcount_non_zero_params_nonbn\u001b[0;34m(model)\u001b[0m\n\u001b[1;32m     <a href='vscode-notebook-cell://ssh-remote%2B7b22686f73744e616d65223a223232302e37302e322e323236222c2275736572223a226b696f636879222c22706f7274223a323232327d/home/kiochy/kcc2022-1/cpjku_dcase20/eval_pretrained.ipynb#ch0000016vscode-remote?line=15'>16</a>\u001b[0m                 sum_params\u001b[39m+\u001b[39m\u001b[39m=\u001b[39mtotal\n\u001b[1;32m     <a href='vscode-notebook-cell://ssh-remote%2B7b22686f73744e616d65223a223232302e37302e322e323236222c2275736572223a226b696f636879222c22706f7274223a323232327d/home/kiochy/kcc2022-1/cpjku_dcase20/eval_pretrained.ipynb#ch0000016vscode-remote?line=16'>17</a>\u001b[0m                 sum_non_zero\u001b[39m+\u001b[39m\u001b[39m=\u001b[39mnonzero\n\u001b[0;32m---> <a href='vscode-notebook-cell://ssh-remote%2B7b22686f73744e616d65223a223232302e37302e322e323236222c2275736572223a226b696f636879222c22706f7274223a323232327d/home/kiochy/kcc2022-1/cpjku_dcase20/eval_pretrained.ipynb#ch0000016vscode-remote?line=17'>18</a>\u001b[0m model\u001b[39m.\u001b[39;49mapply(calc_params)       \n\u001b[1;32m     <a href='vscode-notebook-cell://ssh-remote%2B7b22686f73744e616d65223a223232302e37302e322e323236222c2275736572223a226b696f636879222c22706f7274223a323232327d/home/kiochy/kcc2022-1/cpjku_dcase20/eval_pretrained.ipynb#ch0000016vscode-remote?line=18'>19</a>\u001b[0m \u001b[39mreturn\u001b[39;00m desc,sum_params,sum_non_zero\n",
      "File \u001b[0;32m~/kcc/lib/python3.8/site-packages/torch/nn/modules/module.py:289\u001b[0m, in \u001b[0;36mModule.apply\u001b[0;34m(self, fn)\u001b[0m\n\u001b[1;32m    <a href='file:///home/kiochy/kcc/lib/python3.8/site-packages/torch/nn/modules/module.py?line=250'>251</a>\u001b[0m \u001b[39mr\u001b[39m\u001b[39m\"\"\"Applies ``fn`` recursively to every submodule (as returned by ``.children()``)\u001b[39;00m\n\u001b[1;32m    <a href='file:///home/kiochy/kcc/lib/python3.8/site-packages/torch/nn/modules/module.py?line=251'>252</a>\u001b[0m \u001b[39mas well as self. Typical use includes initializing the parameters of a model\u001b[39;00m\n\u001b[1;32m    <a href='file:///home/kiochy/kcc/lib/python3.8/site-packages/torch/nn/modules/module.py?line=252'>253</a>\u001b[0m \u001b[39m(see also :ref:`nn-init-doc`).\u001b[39;00m\n\u001b[0;32m   (...)\u001b[0m\n\u001b[1;32m    <a href='file:///home/kiochy/kcc/lib/python3.8/site-packages/torch/nn/modules/module.py?line=285'>286</a>\u001b[0m \u001b[39m    )\u001b[39;00m\n\u001b[1;32m    <a href='file:///home/kiochy/kcc/lib/python3.8/site-packages/torch/nn/modules/module.py?line=286'>287</a>\u001b[0m \u001b[39m\"\"\"\u001b[39;00m\n\u001b[1;32m    <a href='file:///home/kiochy/kcc/lib/python3.8/site-packages/torch/nn/modules/module.py?line=287'>288</a>\u001b[0m \u001b[39mfor\u001b[39;00m module \u001b[39min\u001b[39;00m \u001b[39mself\u001b[39m\u001b[39m.\u001b[39mchildren():\n\u001b[0;32m--> <a href='file:///home/kiochy/kcc/lib/python3.8/site-packages/torch/nn/modules/module.py?line=288'>289</a>\u001b[0m     module\u001b[39m.\u001b[39;49mapply(fn)\n\u001b[1;32m    <a href='file:///home/kiochy/kcc/lib/python3.8/site-packages/torch/nn/modules/module.py?line=289'>290</a>\u001b[0m fn(\u001b[39mself\u001b[39m)\n\u001b[1;32m    <a href='file:///home/kiochy/kcc/lib/python3.8/site-packages/torch/nn/modules/module.py?line=290'>291</a>\u001b[0m \u001b[39mreturn\u001b[39;00m \u001b[39mself\u001b[39m\n",
      "File \u001b[0;32m~/kcc/lib/python3.8/site-packages/torch/nn/modules/module.py:289\u001b[0m, in \u001b[0;36mModule.apply\u001b[0;34m(self, fn)\u001b[0m\n\u001b[1;32m    <a href='file:///home/kiochy/kcc/lib/python3.8/site-packages/torch/nn/modules/module.py?line=250'>251</a>\u001b[0m \u001b[39mr\u001b[39m\u001b[39m\"\"\"Applies ``fn`` recursively to every submodule (as returned by ``.children()``)\u001b[39;00m\n\u001b[1;32m    <a href='file:///home/kiochy/kcc/lib/python3.8/site-packages/torch/nn/modules/module.py?line=251'>252</a>\u001b[0m \u001b[39mas well as self. Typical use includes initializing the parameters of a model\u001b[39;00m\n\u001b[1;32m    <a href='file:///home/kiochy/kcc/lib/python3.8/site-packages/torch/nn/modules/module.py?line=252'>253</a>\u001b[0m \u001b[39m(see also :ref:`nn-init-doc`).\u001b[39;00m\n\u001b[0;32m   (...)\u001b[0m\n\u001b[1;32m    <a href='file:///home/kiochy/kcc/lib/python3.8/site-packages/torch/nn/modules/module.py?line=285'>286</a>\u001b[0m \u001b[39m    )\u001b[39;00m\n\u001b[1;32m    <a href='file:///home/kiochy/kcc/lib/python3.8/site-packages/torch/nn/modules/module.py?line=286'>287</a>\u001b[0m \u001b[39m\"\"\"\u001b[39;00m\n\u001b[1;32m    <a href='file:///home/kiochy/kcc/lib/python3.8/site-packages/torch/nn/modules/module.py?line=287'>288</a>\u001b[0m \u001b[39mfor\u001b[39;00m module \u001b[39min\u001b[39;00m \u001b[39mself\u001b[39m\u001b[39m.\u001b[39mchildren():\n\u001b[0;32m--> <a href='file:///home/kiochy/kcc/lib/python3.8/site-packages/torch/nn/modules/module.py?line=288'>289</a>\u001b[0m     module\u001b[39m.\u001b[39;49mapply(fn)\n\u001b[1;32m    <a href='file:///home/kiochy/kcc/lib/python3.8/site-packages/torch/nn/modules/module.py?line=289'>290</a>\u001b[0m fn(\u001b[39mself\u001b[39m)\n\u001b[1;32m    <a href='file:///home/kiochy/kcc/lib/python3.8/site-packages/torch/nn/modules/module.py?line=290'>291</a>\u001b[0m \u001b[39mreturn\u001b[39;00m \u001b[39mself\u001b[39m\n",
      "File \u001b[0;32m~/kcc/lib/python3.8/site-packages/torch/nn/modules/module.py:290\u001b[0m, in \u001b[0;36mModule.apply\u001b[0;34m(self, fn)\u001b[0m\n\u001b[1;32m    <a href='file:///home/kiochy/kcc/lib/python3.8/site-packages/torch/nn/modules/module.py?line=287'>288</a>\u001b[0m \u001b[39mfor\u001b[39;00m module \u001b[39min\u001b[39;00m \u001b[39mself\u001b[39m\u001b[39m.\u001b[39mchildren():\n\u001b[1;32m    <a href='file:///home/kiochy/kcc/lib/python3.8/site-packages/torch/nn/modules/module.py?line=288'>289</a>\u001b[0m     module\u001b[39m.\u001b[39mapply(fn)\n\u001b[0;32m--> <a href='file:///home/kiochy/kcc/lib/python3.8/site-packages/torch/nn/modules/module.py?line=289'>290</a>\u001b[0m fn(\u001b[39mself\u001b[39;49m)\n\u001b[1;32m    <a href='file:///home/kiochy/kcc/lib/python3.8/site-packages/torch/nn/modules/module.py?line=290'>291</a>\u001b[0m \u001b[39mreturn\u001b[39;00m \u001b[39mself\u001b[39m\n",
      "\u001b[1;32m/home/kiochy/kcc2022-1/cpjku_dcase20/eval_pretrained.ipynb Cell 17'\u001b[0m in \u001b[0;36mcount_non_zero_params_nonbn.<locals>.calc_params\u001b[0;34m(model)\u001b[0m\n\u001b[1;32m     <a href='vscode-notebook-cell://ssh-remote%2B7b22686f73744e616d65223a223232302e37302e322e323236222c2275736572223a226b696f636879222c22706f7274223a323232327d/home/kiochy/kcc2022-1/cpjku_dcase20/eval_pretrained.ipynb#ch0000016vscode-remote?line=9'>10</a>\u001b[0m \u001b[39mfor\u001b[39;00m k,p \u001b[39min\u001b[39;00m model\u001b[39m.\u001b[39mnamed_parameters(recurse\u001b[39m=\u001b[39m\u001b[39mFalse\u001b[39;00m):\n\u001b[1;32m     <a href='vscode-notebook-cell://ssh-remote%2B7b22686f73744e616d65223a223232302e37302e322e323236222c2275736572223a226b696f636879222c22706f7274223a323232327d/home/kiochy/kcc2022-1/cpjku_dcase20/eval_pretrained.ipynb#ch0000016vscode-remote?line=10'>11</a>\u001b[0m     \u001b[39mif\u001b[39;00m p\u001b[39m.\u001b[39mrequires_grad:\n\u001b[0;32m---> <a href='vscode-notebook-cell://ssh-remote%2B7b22686f73744e616d65223a223232302e37302e322e323236222c2275736572223a226b696f636879222c22706f7274223a323232327d/home/kiochy/kcc2022-1/cpjku_dcase20/eval_pretrained.ipynb#ch0000016vscode-remote?line=11'>12</a>\u001b[0m         nonzero \u001b[39m=\u001b[39m (p \u001b[39m!=\u001b[39;49m \u001b[39m0\u001b[39;49m)\u001b[39m.\u001b[39msum()\n\u001b[1;32m     <a href='vscode-notebook-cell://ssh-remote%2B7b22686f73744e616d65223a223232302e37302e322e323236222c2275736572223a226b696f636879222c22706f7274223a323232327d/home/kiochy/kcc2022-1/cpjku_dcase20/eval_pretrained.ipynb#ch0000016vscode-remote?line=12'>13</a>\u001b[0m         total\u001b[39m=\u001b[39m p\u001b[39m.\u001b[39mnumel()\n\u001b[1;32m     <a href='vscode-notebook-cell://ssh-remote%2B7b22686f73744e616d65223a223232302e37302e322e323236222c2275736572223a226b696f636879222c22706f7274223a323232327d/home/kiochy/kcc2022-1/cpjku_dcase20/eval_pretrained.ipynb#ch0000016vscode-remote?line=13'>14</a>\u001b[0m         desc \u001b[39m+\u001b[39m\u001b[39m=\u001b[39m \u001b[39mf\u001b[39m\u001b[39m\"\u001b[39m\u001b[39mtype \u001b[39m\u001b[39m{\u001b[39;00m\u001b[39mtype\u001b[39m(model)\u001b[39m.\u001b[39m\u001b[39m__name__\u001b[39m\u001b[39m}\u001b[39;00m\u001b[39m, \u001b[39m\u001b[39m{\u001b[39;00mk\u001b[39m}\u001b[39;00m\u001b[39m,  \u001b[39m\u001b[39m{\u001b[39;00mtotal\u001b[39m}\u001b[39;00m\u001b[39m, \u001b[39m\u001b[39m{\u001b[39;00mnonzero\u001b[39m}\u001b[39;00m\u001b[39m, \u001b[39m\u001b[39m{\u001b[39;00mp\u001b[39m.\u001b[39mdtype\u001b[39m}\u001b[39;00m\u001b[39m, \u001b[39m\u001b[39m{\u001b[39;00mskip\u001b[39m}\u001b[39;00m\u001b[39m \u001b[39m\u001b[39m\"\u001b[39m \u001b[39m+\u001b[39m \u001b[39m\"\u001b[39m\u001b[39m\\n\u001b[39;00m\u001b[39m\"\u001b[39m\n",
      "File \u001b[0;32m~/kcc/lib/python3.8/site-packages/torch/tensor.py:28\u001b[0m, in \u001b[0;36m_wrap_type_error_to_not_implemented.<locals>.wrapped\u001b[0;34m(*args, **kwargs)\u001b[0m\n\u001b[1;32m     <a href='file:///home/kiochy/kcc/lib/python3.8/site-packages/torch/tensor.py?line=24'>25</a>\u001b[0m \u001b[39m@functools\u001b[39m\u001b[39m.\u001b[39mwraps(f, assigned\u001b[39m=\u001b[39massigned)\n\u001b[1;32m     <a href='file:///home/kiochy/kcc/lib/python3.8/site-packages/torch/tensor.py?line=25'>26</a>\u001b[0m \u001b[39mdef\u001b[39;00m \u001b[39mwrapped\u001b[39m(\u001b[39m*\u001b[39margs, \u001b[39m*\u001b[39m\u001b[39m*\u001b[39mkwargs):\n\u001b[1;32m     <a href='file:///home/kiochy/kcc/lib/python3.8/site-packages/torch/tensor.py?line=26'>27</a>\u001b[0m     \u001b[39mtry\u001b[39;00m:\n\u001b[0;32m---> <a href='file:///home/kiochy/kcc/lib/python3.8/site-packages/torch/tensor.py?line=27'>28</a>\u001b[0m         \u001b[39mreturn\u001b[39;00m f(\u001b[39m*\u001b[39;49margs, \u001b[39m*\u001b[39;49m\u001b[39m*\u001b[39;49mkwargs)\n\u001b[1;32m     <a href='file:///home/kiochy/kcc/lib/python3.8/site-packages/torch/tensor.py?line=28'>29</a>\u001b[0m     \u001b[39mexcept\u001b[39;00m \u001b[39mTypeError\u001b[39;00m:\n\u001b[1;32m     <a href='file:///home/kiochy/kcc/lib/python3.8/site-packages/torch/tensor.py?line=29'>30</a>\u001b[0m         \u001b[39mreturn\u001b[39;00m \u001b[39mNotImplemented\u001b[39m\n",
      "\u001b[0;31mRuntimeError\u001b[0m: \"ne_cpu\" not implemented for 'Half'"
     ]
    }
   ],
   "source": [
    "desc,sum_params,sum_non_zero=count_non_zero_params_nonbn(model)\n",
    "print(\"Total: \",sum_params, \"Non-Zero:\",sum_non_zero)\n",
    "print(desc)"
   ]
  },
  {
   "cell_type": "markdown",
   "metadata": {},
   "source": [
    "# Loading DataSet"
   ]
  },
  {
   "cell_type": "code",
   "execution_count": null,
   "metadata": {},
   "outputs": [],
   "source": [
    "import datasets\n",
    "# the eval json config dataset specifies that the norms should be calculated from all the training clips. \n",
    "with open('configs/datasets/dcase2020b_eval.json',\"r\")as f:\n",
    "    dataset_config=json.load(f)\n",
    "datasetm=datasets.DatasetsManager(dataset_config['audiodataset'])"
   ]
  },
  {
   "cell_type": "code",
   "execution_count": null,
   "metadata": {},
   "outputs": [
    {
     "name": "stdout",
     "output_type": "stream",
     "text": [
      "loading dataset from 'd20t1b'\n",
      "normalizing dataset\n",
      "normalized train!\n",
      "attempting to load x from cache at datasets/cached_datasets/d20t1b/tr_mean_676d70_f1_apd18_stereo_obj.pt...\n",
      "loaded datasets/cached_datasets/d20t1b/tr_mean_676d70_f1_apd18_stereo_obj.pt from cache in 0.0005588531494140625 \n",
      "attempting to load x from cache at datasets/cached_datasets/d20t1b/tr_std_676d70_f1_apd18_stereo_obj.pt...\n",
      "loaded datasets/cached_datasets/d20t1b/tr_std_676d70_f1_apd18_stereo_obj.pt from cache in 0.0005135536193847656 \n",
      "normalized train!\n",
      "normalized test!\n",
      "normalized SUB dataset!\n",
      "loading dataset from 'd20t1b_sub'\n"
     ]
    }
   ],
   "source": [
    "trainds=datasetm.get_train_set()\n",
    "testds=datasetm.get_train_set()\n",
    "evalds=datasetm.get_sub_dataset()"
   ]
  },
  {
   "cell_type": "markdown",
   "metadata": {},
   "source": [
    "## Sanity checks"
   ]
  },
  {
   "cell_type": "markdown",
   "metadata": {},
   "source": [
    "### dev train"
   ]
  },
  {
   "cell_type": "code",
   "execution_count": null,
   "metadata": {},
   "outputs": [
    {
     "name": "stdout",
     "output_type": "stream",
     "text": [
      "x: torch.Size([1, 2, 256, 431])\n",
      "in_c: torch.Size([1, 64, 127, 215])\n",
      "stage1: torch.Size([1, 64, 15, 26])\n",
      "stage2: torch.Size([1, 128, 15, 26])\n",
      "stage3: torch.Size([1, 128, 15, 26])\n",
      "feed_forward: torch.Size([1, 3, 1, 1])\n",
      "logit: torch.Size([1, 3])\n",
      "all  14400  correct  14400  ratio= 1.0\n"
     ]
    }
   ],
   "source": [
    "all_y=0\n",
    "corr_y=0\n",
    "model.eval()\n",
    "model.cuda()\n",
    "half_mode=True\n",
    "data_loader = torch.utils.data.DataLoader(trainds,\n",
    "                                          batch_size=1,\n",
    "                                          shuffle=False)\n",
    "with torch.no_grad():\n",
    "    for i,(x,idx,y) in enumerate(data_loader):\n",
    "        if i%10==0:\n",
    "            print(i,\"/\",len(data_loader),end=\"\\r\")\n",
    "        x=x.cuda()\n",
    "        if half_mode:\n",
    "            x=x.half()\n",
    "        out=model(x)\n",
    "        all_y+=1\n",
    "        corr_y+=(torch.argmax(out).cpu()==y).sum().item()\n",
    "print(\"all \", all_y,\" correct \",corr_y,\" ratio=\",corr_y*1./all_y) \n",
    "    "
   ]
  },
  {
   "cell_type": "markdown",
   "metadata": {},
   "source": [
    "# eval"
   ]
  },
  {
   "cell_type": "code",
   "execution_count": null,
   "metadata": {},
   "outputs": [
    {
     "name": "stdout",
     "output_type": "stream",
     "text": [
      "all  8640  correct  0  ratio= 0.0\n"
     ]
    }
   ],
   "source": [
    "all_y=0\n",
    "corr_y=0\n",
    "model.eval()\n",
    "model.cuda()\n",
    "half_mode=True\n",
    "data_loader = torch.utils.data.DataLoader(evalds,\n",
    "                                          batch_size=1,\n",
    "                                          shuffle=False,num_workers=10)\n",
    "preds=[]\n",
    "file_names=[]\n",
    "with torch.no_grad():\n",
    "    for i,(x,idx,y) in enumerate(data_loader):\n",
    "        if i%10==0:\n",
    "            print(i,\"/\",len(data_loader),end=\"\\r\")\n",
    "        x=x.cuda()\n",
    "        if half_mode:\n",
    "            x=x.half()\n",
    "        out=model(x)\n",
    "        all_y+=1\n",
    "        file_names+=[a for a in idx]\n",
    "        preds+=[out.cpu()]\n",
    "print(\"all \", all_y,\" correct \",corr_y,\" ratio=\",corr_y*1./all_y) \n",
    "    "
   ]
  },
  {
   "cell_type": "code",
   "execution_count": null,
   "metadata": {},
   "outputs": [],
   "source": [
    "pfiles,pprobs=torch.load(model_path+\"eval_predictions_probs.pth\")"
   ]
  },
  {
   "cell_type": "code",
   "execution_count": null,
   "metadata": {},
   "outputs": [
    {
     "data": {
      "text/plain": [
       "True"
      ]
     },
     "execution_count": 17,
     "metadata": {},
     "output_type": "execute_result"
    }
   ],
   "source": [
    "pfiles==file_names"
   ]
  },
  {
   "cell_type": "code",
   "execution_count": null,
   "metadata": {},
   "outputs": [
    {
     "name": "stdout",
     "output_type": "stream",
     "text": [
      "matching tensor(8640) out of  8640\n"
     ]
    }
   ],
   "source": [
    "print(\"matching\",(torch.argmax(pprobs.float(),1)== torch.argmax(torch.cat(preds,0).float(),1) ).sum(),\"out of \" ,pprobs.shape[0])\n"
   ]
  }
 ],
 "metadata": {
  "kernelspec": {
   "display_name": "Python 3",
   "language": "python",
   "name": "python3"
  },
  "language_info": {
   "codemirror_mode": {
    "name": "ipython",
    "version": 3
   },
   "file_extension": ".py",
   "mimetype": "text/x-python",
   "name": "python",
   "nbconvert_exporter": "python",
   "pygments_lexer": "ipython3",
   "version": "3.8.10"
  }
 },
 "nbformat": 4,
 "nbformat_minor": 4
}
